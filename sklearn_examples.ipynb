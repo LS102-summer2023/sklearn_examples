{
  "nbformat": 4,
  "nbformat_minor": 0,
  "metadata": {
    "colab": {
      "provenance": [],
      "authorship_tag": "ABX9TyNn5Qiz66e/83YggoR4OiQ/",
      "include_colab_link": true
    },
    "kernelspec": {
      "name": "python3",
      "display_name": "Python 3"
    },
    "language_info": {
      "name": "python"
    }
  },
  "cells": [
    {
      "cell_type": "markdown",
      "metadata": {
        "id": "view-in-github",
        "colab_type": "text"
      },
      "source": [
        "<a href=\"https://colab.research.google.com/github/LS102-summer2023/sklearn_examples/blob/main/sklearn_examples.ipynb\" target=\"_parent\"><img src=\"https://colab.research.google.com/assets/colab-badge.svg\" alt=\"Open In Colab\"/></a>"
      ]
    },
    {
      "cell_type": "markdown",
      "source": [
        "## **sklearn Use**\n",
        "\n",
        "References:\n",
        "\n",
        "https://en.wikipedia.org/wiki/Iris_flower_data_set\n",
        "\n",
        "http://seaborn.pydata.org/\n",
        "\n",
        "https://scikit-learn.org/stable/supervised_learning.html\n"
      ],
      "metadata": {
        "id": "gmNCBEIcJsf6"
      }
    },
    {
      "cell_type": "code",
      "execution_count": null,
      "metadata": {
        "id": "LtyUolkCJSuH"
      },
      "outputs": [],
      "source": [
        "import seaborn as sns\n",
        "iris = sns.load_dataset('iris')\n",
        "iris.head()"
      ]
    },
    {
      "cell_type": "code",
      "source": [
        "%matplotlib inline\n",
        "sns.set()\n",
        "sns.pairplot(iris, hue='species', height=2);"
      ],
      "metadata": {
        "id": "CBQo9gP55jDK"
      },
      "execution_count": null,
      "outputs": []
    },
    {
      "cell_type": "code",
      "source": [
        "X_iris = iris.drop('species', axis=1)\n",
        "X_iris.shape"
      ],
      "metadata": {
        "id": "ZSneC8_t-M3i"
      },
      "execution_count": null,
      "outputs": []
    },
    {
      "cell_type": "code",
      "source": [
        "y_iris = iris['species']\n",
        "y_iris.shape"
      ],
      "metadata": {
        "id": "Jf0oy8Ih-RTf"
      },
      "execution_count": null,
      "outputs": []
    },
    {
      "cell_type": "code",
      "source": [
        "from sklearn.model_selection import train_test_split\n",
        "Xtrain, Xtest, ytrain, ytest = train_test_split(X_iris, y_iris, random_state=1)"
      ],
      "metadata": {
        "id": "6KSc9l5Z-bR_"
      },
      "execution_count": 13,
      "outputs": []
    },
    {
      "cell_type": "code",
      "source": [
        "from sklearn.naive_bayes import GaussianNB # 1. choose model class\n",
        "model = GaussianNB()                       # 2. instantiate model\n",
        "model.fit(Xtrain, ytrain)                  # 3. fit model to data\n",
        "y_model = model.predict(Xtest)             # 4. predict on new data"
      ],
      "metadata": {
        "id": "SN9W-HPh_Btt"
      },
      "execution_count": 15,
      "outputs": []
    },
    {
      "cell_type": "code",
      "source": [
        "from sklearn.metrics import accuracy_score\n",
        "accuracy_score(ytest, y_model)"
      ],
      "metadata": {
        "id": "kAJp4DwF_Kf9"
      },
      "execution_count": null,
      "outputs": []
    }
  ]
}